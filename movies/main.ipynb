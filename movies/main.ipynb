{
 "cells": [
  {
   "attachments": {},
   "cell_type": "markdown",
   "metadata": {},
   "source": [
    "## MovieLens-100k\n",
    "\n",
    "Explicit feedback data. No negative sampling is required because there are negative examples in the training data.\n",
    "\n",
    "Softmax and BPR models are implemented. They are compared to reasonable baselines with ranking metrics.\n",
    "\n",
    "I use lightning for training.\n",
    "\n",
    "I only use user/film interactions -- no user/film extra features (in RecBole terms, I implement General Reccommendation model). \n",
    "\n",
    "There is a cold start problem with the current implementation. There are no predictions for users outside of the train set.\n",
    "\n",
    "Including user features (which is straightforward) will help with this.\n",
    "\n",
    "Including movie features as well will improve recommendation performance."
   ]
  },
  {
   "cell_type": "code",
   "execution_count": 1,
   "metadata": {},
   "outputs": [],
   "source": [
    "from typing import Callable\n",
    "import numpy as np\n",
    "import pandas as pd\n",
    "from torch.utils.data import Dataset\n",
    "\n",
    "class MovieLens(Dataset):\n",
    "    def __init__(\n",
    "        self,\n",
    "        subset_indices=None\n",
    "    ) -> None:\n",
    "        super().__init__()\n",
    "        self.movies = pd.read_csv(\"./data/ml-latest-small/movies.csv\")\n",
    "        self.ratings = pd.read_csv(\"./data/ml-latest-small/ratings.csv\")\n",
    "        self.data = self.ratings.join(self.movies, on=\"movieId\", rsuffix=\"_tmp\")\n",
    "        self.data.drop(columns=\"movieId_tmp\", inplace=True)\n",
    "\n",
    "        if subset_indices is not None:\n",
    "            self.data = self.data.loc[subset_indices, :]\n",
    "\n",
    "    def __len__(self):\n",
    "        return len(self.data)\n",
    "    \n",
    "    def __getitem__(self, index):\n",
    "        return self.data.iloc[index, :]"
   ]
  },
  {
   "cell_type": "code",
   "execution_count": 2,
   "metadata": {},
   "outputs": [],
   "source": [
    "from torch.utils.data import DataLoader\n",
    "import torch\n",
    "from lightning import LightningDataModule\n",
    "from lightning.pytorch.utilities.types import EVAL_DATALOADERS, TRAIN_DATALOADERS\n",
    "from sklearn.preprocessing import LabelEncoder\n",
    "\n",
    "class MovieLensDataModule(LightningDataModule):\n",
    "    \"\"\"\n",
    "    Preprocesses the data, defines data loader with collators.\n",
    "    Preprocessing includes:\n",
    "        - train/val/test partition by timestamp;\n",
    "        - LabelEncoding for users and items;\n",
    "        - ratings [0-5] to {0,1}\n",
    "        - (optionnaly) fuze positive and negative observations -- basically, negative sampling.\n",
    "            This is required by some models, like BPR\n",
    "\n",
    "    TODO.2: it should not access ```.data``` field.\n",
    "\n",
    "    Args:\n",
    "        LightningDataModule (_type_): _description_\n",
    "    \"\"\"\n",
    "    def __init__(\n",
    "        self,\n",
    "        train_batch_size=32, val_batch_size=64, \n",
    "        fuze_pos_neg=False,\n",
    "        val_size=0.2, test_size=0,\n",
    "    ) -> None:\n",
    "        super().__init__()\n",
    "        np.random.seed(42)\n",
    "        self.dataset = MovieLens()\n",
    "        self.train_batch_size = train_batch_size\n",
    "        self.val_batch_size = val_batch_size\n",
    "        self.val_size = val_size\n",
    "        self.test_size = test_size\n",
    "        self.partition_data()\n",
    "        self.n_users = len(self.train_dataset.data['userId'].unique())\n",
    "        self.n_items = len(self.train_dataset.data['movieId'].unique())\n",
    "\n",
    "        self.preprocess_ids()\n",
    "        self.preprocess_ratings()\n",
    "        if fuze_pos_neg:\n",
    "            self.fuze_pos_neg()\n",
    "\n",
    "    def partition_data(self):\n",
    "        train, val, test = self.get_subset_indices()\n",
    "        self.train_dataset = MovieLens(subset_indices=train)\n",
    "        self.val_dataset = MovieLens(subset_indices=val)\n",
    "        self.test_dataset = MovieLens(subset_indices=test)\n",
    "\n",
    "    def get_subset_indices(\n",
    "        self,\n",
    "    ):\n",
    "        \"\"\"Partition by timestamp\n",
    "        \"\"\"\n",
    "        # TODO.2\n",
    "        val_size = self.val_size\n",
    "        test_size = self.test_size\n",
    "        sorted_data = self.dataset.data.sort_values(by=\"timestamp\", ascending=True)\n",
    "        n = len(sorted_data)\n",
    "        train_size = int(np.ceil((1-val_size-test_size) * n))\n",
    "        val_size = int(np.floor(val_size * n))\n",
    "        test_size = int(np.floor(test_size * n))\n",
    "        return (\n",
    "            # TODO.2\n",
    "            sorted_data.index[range(train_size)], \n",
    "            sorted_data.index[range(train_size, train_size + val_size)], \n",
    "            sorted_data.index[range(train_size + val_size, train_size + val_size + test_size)]\n",
    "        )\n",
    "    \n",
    "    def preprocess_ids(self):\n",
    "        user_id_encoder = LabelEncoder()\n",
    "        movie_id_encoder = LabelEncoder()\n",
    "        user_id_encoder.fit(self.train_dataset.data['userId'])\n",
    "        movie_id_encoder.fit(self.train_dataset.data['movieId'])\n",
    "\n",
    "        for col, encoder in [('userId', user_id_encoder), ('movieId', movie_id_encoder)]:\n",
    "            # TODO: bad\n",
    "            self.val_dataset.data = self.val_dataset.data[\n",
    "                self.val_dataset.data[col].isin(encoder.classes_)\n",
    "            ]\n",
    "            self.test_dataset.data = self.test_dataset.data[\n",
    "                self.test_dataset.data[col].isin(encoder.classes_)\n",
    "            ]\n",
    "            #\n",
    "            for ds in [self.train_dataset, self.val_dataset, self.test_dataset]:\n",
    "                ds.data[col] = encoder.transform(ds.data[col])\n",
    "    \n",
    "    def preprocess_ratings(self):\n",
    "        for ds in [self.train_dataset, self.val_dataset, self.test_dataset]:\n",
    "            ds.data['rating'] = (ds.data['rating'] > 3).astype(int)\n",
    "\n",
    "    def fuze_pos_neg(self):\n",
    "        # todo: should really exclude\n",
    "        self.train_dataset.data['movieId_neg'] = np.random.choice(range(self.n_items), size=len(self.train_dataset))\n",
    "        self.val_dataset.data['movieId_neg'] = np.random.choice(range(self.n_items), size=len(self.val_dataset))\n",
    "\n",
    "    def setup(self, stage: str) -> None:\n",
    "        pass\n",
    "    \n",
    "    def collate_fn(self, batch):\n",
    "        dict = pd.DataFrame(batch).to_dict()\n",
    "        dict = {k: torch.tensor(list(v.values())) for k, v in dict.items() if k in ['userId', 'movieId', 'rating', 'movieId_neg']}\n",
    "        return dict\n",
    "    \n",
    "    def train_dataloader(self) -> TRAIN_DATALOADERS:\n",
    "        return DataLoader(\n",
    "            dataset=self.train_dataset, \n",
    "            batch_size=self.train_batch_size, \n",
    "            collate_fn=self.collate_fn\n",
    "        )\n",
    "    \n",
    "    def val_dataloader(self) -> EVAL_DATALOADERS:\n",
    "        return DataLoader(\n",
    "            dataset=self.val_dataset, \n",
    "            batch_size=self.val_batch_size, \n",
    "            collate_fn=self.collate_fn\n",
    "        )\n",
    "    \n",
    "    def test_dataloader(self) -> EVAL_DATALOADERS:\n",
    "        return DataLoader(\n",
    "            dataset=self.test_dataset, \n",
    "            batch_size=self.val_batch_size, \n",
    "            collate_fn=self.collate_fn\n",
    "        )"
   ]
  },
  {
   "cell_type": "code",
   "execution_count": 4,
   "metadata": {},
   "outputs": [],
   "source": [
    "from copy import deepcopy\n",
    "from torchmetrics import F1Score, MetricCollection\n",
    "import torch.nn as nn\n",
    "\n",
    "from utils import BaseModel\n",
    "\n",
    "class SoftmaxModel(BaseModel):\n",
    "    \"\"\"https://developers.google.com/machine-learning/recommendation/dnn/softmax\n",
    "\n",
    "    Args:\n",
    "        LightningModule (_type_): _description_\n",
    "    \"\"\"\n",
    "    def __init__(\n",
    "        self, \n",
    "        n_user, n_items,\n",
    "        hidden_dim=600,\n",
    "        emb_dim=300,\n",
    "        *args,\n",
    "        **kwargs,\n",
    "    ) -> None:\n",
    "        super().__init__(*args, **kwargs)\n",
    "        self.train_metrics = MetricCollection({\n",
    "            \"f1\": F1Score(task='binary')\n",
    "        })\n",
    "        self.val_metrics = deepcopy(self.train_metrics)\n",
    "        self.test_metrics = deepcopy(self.train_metrics)\n",
    "\n",
    "        self.emb_dim = emb_dim\n",
    "        self.user_embedding = nn.Sequential(\n",
    "            nn.Embedding(n_user, hidden_dim),\n",
    "            # nn.Linear(hidden_dim, emb_dim),\n",
    "            nn.Linear(hidden_dim, hidden_dim + (emb_dim - hidden_dim) // 2),\n",
    "            nn.BatchNorm1d(hidden_dim + (emb_dim - hidden_dim) // 2),\n",
    "            nn.ReLU(),\n",
    "            nn.Dropout(),\n",
    "            nn.Linear(hidden_dim + (emb_dim - hidden_dim) // 2, emb_dim)\n",
    "        )\n",
    "        self.item_embedding = nn.Sequential(\n",
    "            nn.Embedding(n_items, hidden_dim),\n",
    "            # nn.Linear(hidden_dim, emb_dim),\n",
    "            nn.Linear(hidden_dim, hidden_dim + (emb_dim - hidden_dim) // 2),\n",
    "            nn.BatchNorm1d(hidden_dim + (emb_dim - hidden_dim) // 2),\n",
    "            nn.ReLU(),\n",
    "            nn.Dropout(),\n",
    "            nn.Linear(hidden_dim + (emb_dim - hidden_dim) // 2, emb_dim)\n",
    "        )\n",
    "        self.loss = nn.BCELoss()\n",
    "\n",
    "    def embed_user(self, batch):\n",
    "        \"\"\"To add extra features, concat them before the linear layers\"\"\"\n",
    "        return self.user_embedding(batch['userId'])\n",
    "\n",
    "    def embed_item(self, batch):\n",
    "        return self.item_embedding(batch['movieId'])\n",
    "    \n",
    "    def common_step(self, batch):\n",
    "        bs = len(batch['rating'])\n",
    "        user_emb = self.embed_user(batch) # ~ (batch_size, emb_dim)\n",
    "        item_emb = self.embed_item(batch) # \n",
    "        # dot products for every pair in batch\n",
    "        y_hat = torch.bmm(\n",
    "            user_emb.view(bs, 1, self.emb_dim), \n",
    "            item_emb.view(bs, self.emb_dim, 1)\n",
    "        ) # ~ (bs, 1)\n",
    "        y_hat = y_hat.flatten()\n",
    "        y_hat = (\n",
    "            y_hat / \n",
    "            (torch.norm(user_emb, dim=1) * torch.norm(item_emb, dim = 1))\n",
    "        )\n",
    "        return y_hat.sigmoid()"
   ]
  },
  {
   "cell_type": "code",
   "execution_count": 5,
   "metadata": {},
   "outputs": [],
   "source": [
    "from lightning.pytorch.utilities.types import STEP_OUTPUT\n",
    "from torch.nn.init import xavier_normal_\n",
    "\n",
    "class BPRLoss(nn.Module):\n",
    "    \"\"\" BPRLoss, based on Bayesian Personalized Ranking\n",
    "\n",
    "    Args:\n",
    "        - gamma(float): Small value to avoid division by zero\n",
    "\n",
    "    Shape:\n",
    "        - Pos_score: (N)\n",
    "        - Neg_score: (N), same shape as the Pos_score\n",
    "        - Output: scalar.\n",
    "\n",
    "    Examples::\n",
    "\n",
    "        >>> loss = BPRLoss()\n",
    "        >>> pos_score = torch.randn(3, requires_grad=True)\n",
    "        >>> neg_score = torch.randn(3, requires_grad=True)\n",
    "        >>> output = loss(pos_score, neg_score)\n",
    "        >>> output.backward()\n",
    "    \"\"\"\n",
    "\n",
    "    def __init__(self, gamma=1e-10):\n",
    "        super(BPRLoss, self).__init__()\n",
    "        self.gamma = gamma\n",
    "\n",
    "    def forward(self, pos_score, neg_score):\n",
    "        loss = -torch.log(self.gamma + torch.sigmoid(pos_score - neg_score)).mean()\n",
    "        return loss\n",
    "\n",
    "\n",
    "class BPR(BaseModel):\n",
    "    \"\"\"https://arxiv.org/pdf/1205.2618.pdf\n",
    "\n",
    "    Args:\n",
    "        BaseModel (_type_): _description_\n",
    "    \"\"\"\n",
    "    \n",
    "    def __init__(self, *args, n_user, n_items, emb_dim=64, learning_rate=0.0001, **kwargs) -> None:\n",
    "        super().__init__(*args, learning_rate=learning_rate, **kwargs)\n",
    "        self.n_users = n_user\n",
    "        self.n_items = n_items\n",
    "        self.emb_dim = emb_dim\n",
    "\n",
    "        self.user_embedding = nn.Embedding(self.n_users, self.emb_dim)\n",
    "        self.item_embedding = nn.Embedding(self.n_items, self.emb_dim)\n",
    "        self.loss = BPRLoss()\n",
    "\n",
    "        # parameters initialization\n",
    "        xavier_normal_(self.user_embedding.weight.data)\n",
    "        xavier_normal_(self.item_embedding.weight.data)\n",
    "\n",
    "    def embed_user(self, user):\n",
    "        return self.user_embedding(user)\n",
    "\n",
    "    def embed_item(self, item):\n",
    "        return self.item_embedding(item)\n",
    "\n",
    "    def forward(self, user, item):\n",
    "        user_e = self.embed_user(user)\n",
    "        item_e = self.embed_item(item)\n",
    "        return user_e, item_e\n",
    "\n",
    "    def common_step(self, batch):\n",
    "        user = batch['userId']\n",
    "        pos = batch['movieId']\n",
    "        neg = batch['movieId_neg']\n",
    "\n",
    "        user_e, pos_e = self.forward(user, pos)\n",
    "        neg_e = self.embed_item(neg)\n",
    "        pos_item_score, neg_item_score = torch.mul(user_e, pos_e).sum(dim=1), torch.mul(user_e, neg_e).sum(dim=1)\n",
    "        return pos_item_score, neg_item_score\n",
    "    \n",
    "    def training_step(self, batch, _) -> STEP_OUTPUT:\n",
    "        pos, neg = self.common_step(batch)\n",
    "        loss = self.loss(pos, neg)\n",
    "        self.log_dict({\"train_loss\": loss})\n",
    "        return loss\n",
    "    \n",
    "    def validation_step(self, batch, _) -> STEP_OUTPUT | None:\n",
    "        pos, neg = self.common_step(batch)\n",
    "        loss = self.loss(pos, neg)\n",
    "        self.log(\"val_loss\", loss)\n",
    "        return loss"
   ]
  },
  {
   "attachments": {},
   "cell_type": "markdown",
   "metadata": {},
   "source": [
    "## Train Softmax"
   ]
  },
  {
   "cell_type": "code",
   "execution_count": 21,
   "metadata": {},
   "outputs": [],
   "source": [
    "dm = MovieLensDataModule(train_batch_size=128, val_batch_size=256)"
   ]
  },
  {
   "cell_type": "code",
   "execution_count": 22,
   "metadata": {},
   "outputs": [],
   "source": [
    "model = SoftmaxModel(n_items=dm.n_items, n_user=dm.n_users, learning_rate=1e-4, emb_dim=64, hidden_dim=128)"
   ]
  },
  {
   "cell_type": "code",
   "execution_count": 23,
   "metadata": {},
   "outputs": [
    {
     "name": "stderr",
     "output_type": "stream",
     "text": [
      "GPU available: True (cuda), used: True\n",
      "TPU available: False, using: 0 TPU cores\n",
      "IPU available: False, using: 0 IPUs\n",
      "HPU available: False, using: 0 HPUs\n"
     ]
    }
   ],
   "source": [
    "from lightning import Trainer\n",
    "from lightning.pytorch.callbacks import ModelCheckpoint\n",
    "from lightning.pytorch.loggers import TensorBoardLogger\n",
    "\n",
    "trainer = Trainer(\n",
    "    max_epochs=-1,\n",
    "    logger=TensorBoardLogger(save_dir=\"logs\", name=\"softmax\"), \n",
    "    callbacks=[ModelCheckpoint(\n",
    "        \"./checkpoints/\", \n",
    "        monitor=\"val_f1\", \n",
    "        save_top_k=1, \n",
    "        mode=\"max\", \n",
    "        every_n_epochs=1, \n",
    "        filename='{epoch}-{val_f1:.2f}',\n",
    "        save_last=True\n",
    "    )],\n",
    ")"
   ]
  },
  {
   "cell_type": "code",
   "execution_count": null,
   "metadata": {},
   "outputs": [],
   "source": []
  },
  {
   "cell_type": "code",
   "execution_count": 24,
   "metadata": {},
   "outputs": [
    {
     "name": "stderr",
     "output_type": "stream",
     "text": [
      "/home/leo/miniconda3/envs/ml/lib/python3.10/site-packages/lightning/pytorch/callbacks/model_checkpoint.py:612: UserWarning: Checkpoint directory /home/leo/miscellaneous/movies/checkpoints exists and is not empty.\n",
      "  rank_zero_warn(f\"Checkpoint directory {dirpath} exists and is not empty.\")\n",
      "LOCAL_RANK: 0 - CUDA_VISIBLE_DEVICES: [0]\n",
      "\n",
      "  | Name           | Type             | Params\n",
      "----------------------------------------------------\n",
      "0 | train_metrics  | MetricCollection | 0     \n",
      "1 | val_metrics    | MetricCollection | 0     \n",
      "2 | test_metrics   | MetricCollection | 0     \n",
      "3 | user_embedding | Sequential       | 85.6 K\n",
      "4 | item_embedding | Sequential       | 1.0 M \n",
      "5 | loss           | BCELoss          | 0     \n",
      "----------------------------------------------------\n",
      "1.1 M     Trainable params\n",
      "0         Non-trainable params\n",
      "1.1 M     Total params\n",
      "4.445     Total estimated model params size (MB)\n"
     ]
    },
    {
     "data": {
      "application/vnd.jupyter.widget-view+json": {
       "model_id": "cec32c3a0bbc4aa0bee408cc751d6d31",
       "version_major": 2,
       "version_minor": 0
      },
      "text/plain": [
       "Sanity Checking: 0it [00:00, ?it/s]"
      ]
     },
     "metadata": {},
     "output_type": "display_data"
    },
    {
     "name": "stderr",
     "output_type": "stream",
     "text": [
      "/home/leo/miniconda3/envs/ml/lib/python3.10/site-packages/lightning/pytorch/trainer/connectors/data_connector.py:430: PossibleUserWarning: The dataloader, val_dataloader, does not have many workers which may be a bottleneck. Consider increasing the value of the `num_workers` argument` (try 8 which is the number of cpus on this machine) in the `DataLoader` init to improve performance.\n",
      "  rank_zero_warn(\n",
      "/home/leo/miniconda3/envs/ml/lib/python3.10/site-packages/lightning/pytorch/trainer/connectors/data_connector.py:430: PossibleUserWarning: The dataloader, train_dataloader, does not have many workers which may be a bottleneck. Consider increasing the value of the `num_workers` argument` (try 8 which is the number of cpus on this machine) in the `DataLoader` init to improve performance.\n",
      "  rank_zero_warn(\n"
     ]
    },
    {
     "data": {
      "application/vnd.jupyter.widget-view+json": {
       "model_id": "804a3e46f73a45bdb149dceeb0d75376",
       "version_major": 2,
       "version_minor": 0
      },
      "text/plain": [
       "Training: 0it [00:00, ?it/s]"
      ]
     },
     "metadata": {},
     "output_type": "display_data"
    },
    {
     "data": {
      "application/vnd.jupyter.widget-view+json": {
       "model_id": "8e8293481e5d4938af17632c17c3bd24",
       "version_major": 2,
       "version_minor": 0
      },
      "text/plain": [
       "Validation: 0it [00:00, ?it/s]"
      ]
     },
     "metadata": {},
     "output_type": "display_data"
    },
    {
     "data": {
      "application/vnd.jupyter.widget-view+json": {
       "model_id": "09f52cea335542c980713f40199bc941",
       "version_major": 2,
       "version_minor": 0
      },
      "text/plain": [
       "Validation: 0it [00:00, ?it/s]"
      ]
     },
     "metadata": {},
     "output_type": "display_data"
    },
    {
     "data": {
      "application/vnd.jupyter.widget-view+json": {
       "model_id": "5f3c03d1f76f4a90b1a3100623da5532",
       "version_major": 2,
       "version_minor": 0
      },
      "text/plain": [
       "Validation: 0it [00:00, ?it/s]"
      ]
     },
     "metadata": {},
     "output_type": "display_data"
    },
    {
     "data": {
      "application/vnd.jupyter.widget-view+json": {
       "model_id": "d3a8e38a4af04f5499908a79bcb3bbe1",
       "version_major": 2,
       "version_minor": 0
      },
      "text/plain": [
       "Validation: 0it [00:00, ?it/s]"
      ]
     },
     "metadata": {},
     "output_type": "display_data"
    },
    {
     "data": {
      "application/vnd.jupyter.widget-view+json": {
       "model_id": "ff1c825a3a784018acba34424a960f9c",
       "version_major": 2,
       "version_minor": 0
      },
      "text/plain": [
       "Validation: 0it [00:00, ?it/s]"
      ]
     },
     "metadata": {},
     "output_type": "display_data"
    },
    {
     "data": {
      "application/vnd.jupyter.widget-view+json": {
       "model_id": "e7d11dba7b6a4228aafcb98485d55139",
       "version_major": 2,
       "version_minor": 0
      },
      "text/plain": [
       "Validation: 0it [00:00, ?it/s]"
      ]
     },
     "metadata": {},
     "output_type": "display_data"
    },
    {
     "data": {
      "application/vnd.jupyter.widget-view+json": {
       "model_id": "bfb980dd9f5546aeb71bd8c36df630c3",
       "version_major": 2,
       "version_minor": 0
      },
      "text/plain": [
       "Validation: 0it [00:00, ?it/s]"
      ]
     },
     "metadata": {},
     "output_type": "display_data"
    },
    {
     "data": {
      "application/vnd.jupyter.widget-view+json": {
       "model_id": "295f60e2ab4c4f5bafbd9edf2e1a39bd",
       "version_major": 2,
       "version_minor": 0
      },
      "text/plain": [
       "Validation: 0it [00:00, ?it/s]"
      ]
     },
     "metadata": {},
     "output_type": "display_data"
    },
    {
     "data": {
      "application/vnd.jupyter.widget-view+json": {
       "model_id": "9f107ba5da264118a290c664d1db1f17",
       "version_major": 2,
       "version_minor": 0
      },
      "text/plain": [
       "Validation: 0it [00:00, ?it/s]"
      ]
     },
     "metadata": {},
     "output_type": "display_data"
    },
    {
     "name": "stderr",
     "output_type": "stream",
     "text": [
      "/home/leo/miniconda3/envs/ml/lib/python3.10/site-packages/lightning/pytorch/trainer/call.py:54: UserWarning: Detected KeyboardInterrupt, attempting graceful shutdown...\n",
      "  rank_zero_warn(\"Detected KeyboardInterrupt, attempting graceful shutdown...\")\n"
     ]
    }
   ],
   "source": [
    "trainer.fit(model=model, datamodule=dm)"
   ]
  },
  {
   "attachments": {},
   "cell_type": "markdown",
   "metadata": {},
   "source": [
    "## Train BPR"
   ]
  },
  {
   "cell_type": "code",
   "execution_count": 30,
   "metadata": {},
   "outputs": [],
   "source": [
    "dm = MovieLensDataModule(train_batch_size=128, val_batch_size=256, fuze_pos_neg=True)\n",
    "bpr = BPR(n_items=dm.n_items, n_user=dm.n_users, learning_rate=1e-4, emb_dim=64)"
   ]
  },
  {
   "cell_type": "code",
   "execution_count": 7,
   "metadata": {},
   "outputs": [
    {
     "name": "stderr",
     "output_type": "stream",
     "text": [
      "GPU available: True (cuda), used: True\n",
      "TPU available: False, using: 0 TPU cores\n",
      "IPU available: False, using: 0 IPUs\n",
      "HPU available: False, using: 0 HPUs\n"
     ]
    }
   ],
   "source": [
    "from lightning import Trainer\n",
    "from lightning.pytorch.callbacks import ModelCheckpoint\n",
    "from lightning.pytorch.loggers import TensorBoardLogger\n",
    "\n",
    "trainer = Trainer(\n",
    "    max_epochs=-1,\n",
    "    logger=TensorBoardLogger(save_dir=\"logs\", name=\"bpr\"), \n",
    "    callbacks=[ModelCheckpoint(\n",
    "        \"./checkpoints/\", \n",
    "        monitor=\"val_loss\", \n",
    "        save_top_k=1, \n",
    "        mode=\"min\", \n",
    "        every_n_epochs=1, \n",
    "        filename='{epoch}-{val_loss:.2f}',\n",
    "        save_last=True\n",
    "    )],\n",
    ")"
   ]
  },
  {
   "cell_type": "code",
   "execution_count": 8,
   "metadata": {},
   "outputs": [
    {
     "name": "stderr",
     "output_type": "stream",
     "text": [
      "Missing logger folder: logs/bpr\n",
      "/home/leo/miniconda3/envs/ml/lib/python3.10/site-packages/lightning/pytorch/callbacks/model_checkpoint.py:612: UserWarning: Checkpoint directory /home/leo/miscellaneous/movies/checkpoints exists and is not empty.\n",
      "  rank_zero_warn(f\"Checkpoint directory {dirpath} exists and is not empty.\")\n",
      "LOCAL_RANK: 0 - CUDA_VISIBLE_DEVICES: [0]\n",
      "\n",
      "  | Name           | Type      | Params\n",
      "---------------------------------------------\n",
      "0 | user_embedding | Embedding | 33.4 K\n",
      "1 | item_embedding | Embedding | 503 K \n",
      "2 | loss           | BPRLoss   | 0     \n",
      "---------------------------------------------\n",
      "536 K     Trainable params\n",
      "0         Non-trainable params\n",
      "536 K     Total params\n",
      "2.148     Total estimated model params size (MB)\n",
      "2023-05-10 10:31:53.415688: I tensorflow/core/platform/cpu_feature_guard.cc:193] This TensorFlow binary is optimized with oneAPI Deep Neural Network Library (oneDNN) to use the following CPU instructions in performance-critical operations:  SSE4.1 SSE4.2 AVX AVX2 FMA\n",
      "To enable them in other operations, rebuild TensorFlow with the appropriate compiler flags.\n"
     ]
    },
    {
     "data": {
      "application/vnd.jupyter.widget-view+json": {
       "model_id": "b7ead36872d54edc8950a31387e08063",
       "version_major": 2,
       "version_minor": 0
      },
      "text/plain": [
       "Sanity Checking: 0it [00:00, ?it/s]"
      ]
     },
     "metadata": {},
     "output_type": "display_data"
    },
    {
     "name": "stderr",
     "output_type": "stream",
     "text": [
      "/home/leo/miniconda3/envs/ml/lib/python3.10/site-packages/lightning/pytorch/trainer/connectors/data_connector.py:430: PossibleUserWarning: The dataloader, val_dataloader, does not have many workers which may be a bottleneck. Consider increasing the value of the `num_workers` argument` (try 8 which is the number of cpus on this machine) in the `DataLoader` init to improve performance.\n",
      "  rank_zero_warn(\n",
      "/home/leo/miniconda3/envs/ml/lib/python3.10/site-packages/lightning/pytorch/trainer/connectors/data_connector.py:430: PossibleUserWarning: The dataloader, train_dataloader, does not have many workers which may be a bottleneck. Consider increasing the value of the `num_workers` argument` (try 8 which is the number of cpus on this machine) in the `DataLoader` init to improve performance.\n",
      "  rank_zero_warn(\n"
     ]
    },
    {
     "data": {
      "application/vnd.jupyter.widget-view+json": {
       "model_id": "3695121e50454261a8c6a014ad11bb48",
       "version_major": 2,
       "version_minor": 0
      },
      "text/plain": [
       "Training: 0it [00:00, ?it/s]"
      ]
     },
     "metadata": {},
     "output_type": "display_data"
    },
    {
     "data": {
      "application/vnd.jupyter.widget-view+json": {
       "model_id": "dbe310e78d6e4ba3992b27eda17fa26a",
       "version_major": 2,
       "version_minor": 0
      },
      "text/plain": [
       "Validation: 0it [00:00, ?it/s]"
      ]
     },
     "metadata": {},
     "output_type": "display_data"
    },
    {
     "data": {
      "application/vnd.jupyter.widget-view+json": {
       "model_id": "664a7a2905ef4222a8f2b225ec5c1ef9",
       "version_major": 2,
       "version_minor": 0
      },
      "text/plain": [
       "Validation: 0it [00:00, ?it/s]"
      ]
     },
     "metadata": {},
     "output_type": "display_data"
    },
    {
     "data": {
      "application/vnd.jupyter.widget-view+json": {
       "model_id": "91a5879dd1ec444b9ef1722ac36db16b",
       "version_major": 2,
       "version_minor": 0
      },
      "text/plain": [
       "Validation: 0it [00:00, ?it/s]"
      ]
     },
     "metadata": {},
     "output_type": "display_data"
    },
    {
     "data": {
      "application/vnd.jupyter.widget-view+json": {
       "model_id": "a43771b99f13405f9632dee0a203b0f4",
       "version_major": 2,
       "version_minor": 0
      },
      "text/plain": [
       "Validation: 0it [00:00, ?it/s]"
      ]
     },
     "metadata": {},
     "output_type": "display_data"
    },
    {
     "data": {
      "application/vnd.jupyter.widget-view+json": {
       "model_id": "3a53c44231324d1f906704c3e6c39147",
       "version_major": 2,
       "version_minor": 0
      },
      "text/plain": [
       "Validation: 0it [00:00, ?it/s]"
      ]
     },
     "metadata": {},
     "output_type": "display_data"
    },
    {
     "data": {
      "application/vnd.jupyter.widget-view+json": {
       "model_id": "30e9f5101c9b400ea6fe53cbf1ca6951",
       "version_major": 2,
       "version_minor": 0
      },
      "text/plain": [
       "Validation: 0it [00:00, ?it/s]"
      ]
     },
     "metadata": {},
     "output_type": "display_data"
    },
    {
     "data": {
      "application/vnd.jupyter.widget-view+json": {
       "model_id": "2076233c94004232b50c0d18519716e4",
       "version_major": 2,
       "version_minor": 0
      },
      "text/plain": [
       "Validation: 0it [00:00, ?it/s]"
      ]
     },
     "metadata": {},
     "output_type": "display_data"
    },
    {
     "data": {
      "application/vnd.jupyter.widget-view+json": {
       "model_id": "7daad5ec460e42d2b3fd58a9eb6aaf04",
       "version_major": 2,
       "version_minor": 0
      },
      "text/plain": [
       "Validation: 0it [00:00, ?it/s]"
      ]
     },
     "metadata": {},
     "output_type": "display_data"
    },
    {
     "data": {
      "application/vnd.jupyter.widget-view+json": {
       "model_id": "7317997639684182b519cc199bdac56a",
       "version_major": 2,
       "version_minor": 0
      },
      "text/plain": [
       "Validation: 0it [00:00, ?it/s]"
      ]
     },
     "metadata": {},
     "output_type": "display_data"
    },
    {
     "data": {
      "application/vnd.jupyter.widget-view+json": {
       "model_id": "debcef2f70b04fb58a6b4fc22e48a86a",
       "version_major": 2,
       "version_minor": 0
      },
      "text/plain": [
       "Validation: 0it [00:00, ?it/s]"
      ]
     },
     "metadata": {},
     "output_type": "display_data"
    },
    {
     "data": {
      "application/vnd.jupyter.widget-view+json": {
       "model_id": "1b347f2b796a46d2adbfa7e83d84c28f",
       "version_major": 2,
       "version_minor": 0
      },
      "text/plain": [
       "Validation: 0it [00:00, ?it/s]"
      ]
     },
     "metadata": {},
     "output_type": "display_data"
    },
    {
     "data": {
      "application/vnd.jupyter.widget-view+json": {
       "model_id": "258dd69fe8f8492485156bc2e84367e1",
       "version_major": 2,
       "version_minor": 0
      },
      "text/plain": [
       "Validation: 0it [00:00, ?it/s]"
      ]
     },
     "metadata": {},
     "output_type": "display_data"
    },
    {
     "data": {
      "application/vnd.jupyter.widget-view+json": {
       "model_id": "cd326d535cb44714ace1bf7f6f7c726a",
       "version_major": 2,
       "version_minor": 0
      },
      "text/plain": [
       "Validation: 0it [00:00, ?it/s]"
      ]
     },
     "metadata": {},
     "output_type": "display_data"
    },
    {
     "data": {
      "application/vnd.jupyter.widget-view+json": {
       "model_id": "c43b9cbfaeb34efabfafcacc0afd3bb8",
       "version_major": 2,
       "version_minor": 0
      },
      "text/plain": [
       "Validation: 0it [00:00, ?it/s]"
      ]
     },
     "metadata": {},
     "output_type": "display_data"
    },
    {
     "data": {
      "application/vnd.jupyter.widget-view+json": {
       "model_id": "cec818c3b7ff4870a26ad2e61aa86db1",
       "version_major": 2,
       "version_minor": 0
      },
      "text/plain": [
       "Validation: 0it [00:00, ?it/s]"
      ]
     },
     "metadata": {},
     "output_type": "display_data"
    },
    {
     "data": {
      "application/vnd.jupyter.widget-view+json": {
       "model_id": "87586e36042f496caa07b8e5877bd5ae",
       "version_major": 2,
       "version_minor": 0
      },
      "text/plain": [
       "Validation: 0it [00:00, ?it/s]"
      ]
     },
     "metadata": {},
     "output_type": "display_data"
    },
    {
     "data": {
      "application/vnd.jupyter.widget-view+json": {
       "model_id": "52de161690ea4dd19fbd4309d65b364e",
       "version_major": 2,
       "version_minor": 0
      },
      "text/plain": [
       "Validation: 0it [00:00, ?it/s]"
      ]
     },
     "metadata": {},
     "output_type": "display_data"
    },
    {
     "data": {
      "application/vnd.jupyter.widget-view+json": {
       "model_id": "ae0f4b5e1a174e298d783e83306c9086",
       "version_major": 2,
       "version_minor": 0
      },
      "text/plain": [
       "Validation: 0it [00:00, ?it/s]"
      ]
     },
     "metadata": {},
     "output_type": "display_data"
    },
    {
     "data": {
      "application/vnd.jupyter.widget-view+json": {
       "model_id": "b75bab1b921f443f94ab0c95de1af753",
       "version_major": 2,
       "version_minor": 0
      },
      "text/plain": [
       "Validation: 0it [00:00, ?it/s]"
      ]
     },
     "metadata": {},
     "output_type": "display_data"
    },
    {
     "data": {
      "application/vnd.jupyter.widget-view+json": {
       "model_id": "c1bc998d32c94ca0817d866f10671799",
       "version_major": 2,
       "version_minor": 0
      },
      "text/plain": [
       "Validation: 0it [00:00, ?it/s]"
      ]
     },
     "metadata": {},
     "output_type": "display_data"
    },
    {
     "data": {
      "application/vnd.jupyter.widget-view+json": {
       "model_id": "2d223f5568824cd69ef3c42cd439e012",
       "version_major": 2,
       "version_minor": 0
      },
      "text/plain": [
       "Validation: 0it [00:00, ?it/s]"
      ]
     },
     "metadata": {},
     "output_type": "display_data"
    },
    {
     "data": {
      "application/vnd.jupyter.widget-view+json": {
       "model_id": "74d8e3c16db74763bb752e4a70d3a0d4",
       "version_major": 2,
       "version_minor": 0
      },
      "text/plain": [
       "Validation: 0it [00:00, ?it/s]"
      ]
     },
     "metadata": {},
     "output_type": "display_data"
    },
    {
     "data": {
      "application/vnd.jupyter.widget-view+json": {
       "model_id": "88bfed3b48a44303901ca500a4844493",
       "version_major": 2,
       "version_minor": 0
      },
      "text/plain": [
       "Validation: 0it [00:00, ?it/s]"
      ]
     },
     "metadata": {},
     "output_type": "display_data"
    },
    {
     "data": {
      "application/vnd.jupyter.widget-view+json": {
       "model_id": "3253d939a4594c439afe5e636b06b300",
       "version_major": 2,
       "version_minor": 0
      },
      "text/plain": [
       "Validation: 0it [00:00, ?it/s]"
      ]
     },
     "metadata": {},
     "output_type": "display_data"
    },
    {
     "data": {
      "application/vnd.jupyter.widget-view+json": {
       "model_id": "f8974dadb5514a788a33eb8d1f51139d",
       "version_major": 2,
       "version_minor": 0
      },
      "text/plain": [
       "Validation: 0it [00:00, ?it/s]"
      ]
     },
     "metadata": {},
     "output_type": "display_data"
    },
    {
     "data": {
      "application/vnd.jupyter.widget-view+json": {
       "model_id": "4eece453460a4d2d9bbd681d0d117c85",
       "version_major": 2,
       "version_minor": 0
      },
      "text/plain": [
       "Validation: 0it [00:00, ?it/s]"
      ]
     },
     "metadata": {},
     "output_type": "display_data"
    },
    {
     "data": {
      "application/vnd.jupyter.widget-view+json": {
       "model_id": "d5b3c4bfc723403ba56a56187acba990",
       "version_major": 2,
       "version_minor": 0
      },
      "text/plain": [
       "Validation: 0it [00:00, ?it/s]"
      ]
     },
     "metadata": {},
     "output_type": "display_data"
    },
    {
     "data": {
      "application/vnd.jupyter.widget-view+json": {
       "model_id": "042271f7d5b6473b8e4f095784e6d597",
       "version_major": 2,
       "version_minor": 0
      },
      "text/plain": [
       "Validation: 0it [00:00, ?it/s]"
      ]
     },
     "metadata": {},
     "output_type": "display_data"
    },
    {
     "data": {
      "application/vnd.jupyter.widget-view+json": {
       "model_id": "431a1e29e1ab4a9ca2a317f24ba555d4",
       "version_major": 2,
       "version_minor": 0
      },
      "text/plain": [
       "Validation: 0it [00:00, ?it/s]"
      ]
     },
     "metadata": {},
     "output_type": "display_data"
    },
    {
     "data": {
      "application/vnd.jupyter.widget-view+json": {
       "model_id": "b892b18f441c4f29a2b6f94a946ab5ff",
       "version_major": 2,
       "version_minor": 0
      },
      "text/plain": [
       "Validation: 0it [00:00, ?it/s]"
      ]
     },
     "metadata": {},
     "output_type": "display_data"
    },
    {
     "data": {
      "application/vnd.jupyter.widget-view+json": {
       "model_id": "d15376131aff4e7383cde88fc3179fd8",
       "version_major": 2,
       "version_minor": 0
      },
      "text/plain": [
       "Validation: 0it [00:00, ?it/s]"
      ]
     },
     "metadata": {},
     "output_type": "display_data"
    },
    {
     "data": {
      "application/vnd.jupyter.widget-view+json": {
       "model_id": "72a0dd6ea13b4bc8a6db85cb26b6e9bc",
       "version_major": 2,
       "version_minor": 0
      },
      "text/plain": [
       "Validation: 0it [00:00, ?it/s]"
      ]
     },
     "metadata": {},
     "output_type": "display_data"
    },
    {
     "data": {
      "application/vnd.jupyter.widget-view+json": {
       "model_id": "56627f81f93e48099de0afa3db1e580c",
       "version_major": 2,
       "version_minor": 0
      },
      "text/plain": [
       "Validation: 0it [00:00, ?it/s]"
      ]
     },
     "metadata": {},
     "output_type": "display_data"
    },
    {
     "data": {
      "application/vnd.jupyter.widget-view+json": {
       "model_id": "c3d8b6ce27394053a5f58a8d414cf56e",
       "version_major": 2,
       "version_minor": 0
      },
      "text/plain": [
       "Validation: 0it [00:00, ?it/s]"
      ]
     },
     "metadata": {},
     "output_type": "display_data"
    },
    {
     "data": {
      "application/vnd.jupyter.widget-view+json": {
       "model_id": "d8c04e3669014e04b8b67228ab0f7c3e",
       "version_major": 2,
       "version_minor": 0
      },
      "text/plain": [
       "Validation: 0it [00:00, ?it/s]"
      ]
     },
     "metadata": {},
     "output_type": "display_data"
    },
    {
     "data": {
      "application/vnd.jupyter.widget-view+json": {
       "model_id": "011c6f5d8d224abc84463556d06cab87",
       "version_major": 2,
       "version_minor": 0
      },
      "text/plain": [
       "Validation: 0it [00:00, ?it/s]"
      ]
     },
     "metadata": {},
     "output_type": "display_data"
    },
    {
     "data": {
      "application/vnd.jupyter.widget-view+json": {
       "model_id": "ee3df79de4f34adfb168d8f35cd3be88",
       "version_major": 2,
       "version_minor": 0
      },
      "text/plain": [
       "Validation: 0it [00:00, ?it/s]"
      ]
     },
     "metadata": {},
     "output_type": "display_data"
    },
    {
     "data": {
      "application/vnd.jupyter.widget-view+json": {
       "model_id": "970197f7992c4e87869799ad4b4097c6",
       "version_major": 2,
       "version_minor": 0
      },
      "text/plain": [
       "Validation: 0it [00:00, ?it/s]"
      ]
     },
     "metadata": {},
     "output_type": "display_data"
    },
    {
     "data": {
      "application/vnd.jupyter.widget-view+json": {
       "model_id": "b152efff83ab40419fc836c4f88da9bc",
       "version_major": 2,
       "version_minor": 0
      },
      "text/plain": [
       "Validation: 0it [00:00, ?it/s]"
      ]
     },
     "metadata": {},
     "output_type": "display_data"
    },
    {
     "data": {
      "application/vnd.jupyter.widget-view+json": {
       "model_id": "d4b3f7e148ae48848c0cb251881d066e",
       "version_major": 2,
       "version_minor": 0
      },
      "text/plain": [
       "Validation: 0it [00:00, ?it/s]"
      ]
     },
     "metadata": {},
     "output_type": "display_data"
    },
    {
     "data": {
      "application/vnd.jupyter.widget-view+json": {
       "model_id": "f3d4156119864836bbb4f1b983d9ba90",
       "version_major": 2,
       "version_minor": 0
      },
      "text/plain": [
       "Validation: 0it [00:00, ?it/s]"
      ]
     },
     "metadata": {},
     "output_type": "display_data"
    },
    {
     "data": {
      "application/vnd.jupyter.widget-view+json": {
       "model_id": "7b1fd724809b4dd1be1c978b58447ca4",
       "version_major": 2,
       "version_minor": 0
      },
      "text/plain": [
       "Validation: 0it [00:00, ?it/s]"
      ]
     },
     "metadata": {},
     "output_type": "display_data"
    },
    {
     "data": {
      "application/vnd.jupyter.widget-view+json": {
       "model_id": "eb1ffa9010a34b0a830995cf1fdb49c5",
       "version_major": 2,
       "version_minor": 0
      },
      "text/plain": [
       "Validation: 0it [00:00, ?it/s]"
      ]
     },
     "metadata": {},
     "output_type": "display_data"
    },
    {
     "data": {
      "application/vnd.jupyter.widget-view+json": {
       "model_id": "4c6d168a36d54981bbbf42c3cee08e23",
       "version_major": 2,
       "version_minor": 0
      },
      "text/plain": [
       "Validation: 0it [00:00, ?it/s]"
      ]
     },
     "metadata": {},
     "output_type": "display_data"
    },
    {
     "data": {
      "application/vnd.jupyter.widget-view+json": {
       "model_id": "2b6b6fbf67b1403ba98657cf3df78a9b",
       "version_major": 2,
       "version_minor": 0
      },
      "text/plain": [
       "Validation: 0it [00:00, ?it/s]"
      ]
     },
     "metadata": {},
     "output_type": "display_data"
    },
    {
     "data": {
      "application/vnd.jupyter.widget-view+json": {
       "model_id": "87f02271ed604115b0c4910ab79d050d",
       "version_major": 2,
       "version_minor": 0
      },
      "text/plain": [
       "Validation: 0it [00:00, ?it/s]"
      ]
     },
     "metadata": {},
     "output_type": "display_data"
    },
    {
     "data": {
      "application/vnd.jupyter.widget-view+json": {
       "model_id": "ef2a0f3e7ecb4266bf779854d9deee89",
       "version_major": 2,
       "version_minor": 0
      },
      "text/plain": [
       "Validation: 0it [00:00, ?it/s]"
      ]
     },
     "metadata": {},
     "output_type": "display_data"
    },
    {
     "data": {
      "application/vnd.jupyter.widget-view+json": {
       "model_id": "1386797cefcf4e65997b215cc1180101",
       "version_major": 2,
       "version_minor": 0
      },
      "text/plain": [
       "Validation: 0it [00:00, ?it/s]"
      ]
     },
     "metadata": {},
     "output_type": "display_data"
    },
    {
     "data": {
      "application/vnd.jupyter.widget-view+json": {
       "model_id": "597d46ee5b71440d8870359761229472",
       "version_major": 2,
       "version_minor": 0
      },
      "text/plain": [
       "Validation: 0it [00:00, ?it/s]"
      ]
     },
     "metadata": {},
     "output_type": "display_data"
    },
    {
     "data": {
      "application/vnd.jupyter.widget-view+json": {
       "model_id": "346324ba037d4b689d18fa74a062c951",
       "version_major": 2,
       "version_minor": 0
      },
      "text/plain": [
       "Validation: 0it [00:00, ?it/s]"
      ]
     },
     "metadata": {},
     "output_type": "display_data"
    },
    {
     "data": {
      "application/vnd.jupyter.widget-view+json": {
       "model_id": "ca3e360dc04a47508e94dc4dee5d1797",
       "version_major": 2,
       "version_minor": 0
      },
      "text/plain": [
       "Validation: 0it [00:00, ?it/s]"
      ]
     },
     "metadata": {},
     "output_type": "display_data"
    },
    {
     "data": {
      "application/vnd.jupyter.widget-view+json": {
       "model_id": "bab7bcf0431a44a9a5e404d018222ebf",
       "version_major": 2,
       "version_minor": 0
      },
      "text/plain": [
       "Validation: 0it [00:00, ?it/s]"
      ]
     },
     "metadata": {},
     "output_type": "display_data"
    },
    {
     "data": {
      "application/vnd.jupyter.widget-view+json": {
       "model_id": "558ff48d27c54af0b0d1f2cf3ad45cb3",
       "version_major": 2,
       "version_minor": 0
      },
      "text/plain": [
       "Validation: 0it [00:00, ?it/s]"
      ]
     },
     "metadata": {},
     "output_type": "display_data"
    },
    {
     "data": {
      "application/vnd.jupyter.widget-view+json": {
       "model_id": "4bd40ea43a0845a196ac11f1b19e9f5f",
       "version_major": 2,
       "version_minor": 0
      },
      "text/plain": [
       "Validation: 0it [00:00, ?it/s]"
      ]
     },
     "metadata": {},
     "output_type": "display_data"
    },
    {
     "data": {
      "application/vnd.jupyter.widget-view+json": {
       "model_id": "86838e9fa6814768ae78b11945994751",
       "version_major": 2,
       "version_minor": 0
      },
      "text/plain": [
       "Validation: 0it [00:00, ?it/s]"
      ]
     },
     "metadata": {},
     "output_type": "display_data"
    },
    {
     "data": {
      "application/vnd.jupyter.widget-view+json": {
       "model_id": "f5c5b3d4b370462393b96f566a8ea7b2",
       "version_major": 2,
       "version_minor": 0
      },
      "text/plain": [
       "Validation: 0it [00:00, ?it/s]"
      ]
     },
     "metadata": {},
     "output_type": "display_data"
    },
    {
     "data": {
      "application/vnd.jupyter.widget-view+json": {
       "model_id": "1be171a32879413180b3785e6d646eb2",
       "version_major": 2,
       "version_minor": 0
      },
      "text/plain": [
       "Validation: 0it [00:00, ?it/s]"
      ]
     },
     "metadata": {},
     "output_type": "display_data"
    },
    {
     "name": "stderr",
     "output_type": "stream",
     "text": [
      "/home/leo/miniconda3/envs/ml/lib/python3.10/site-packages/lightning/pytorch/trainer/call.py:54: UserWarning: Detected KeyboardInterrupt, attempting graceful shutdown...\n",
      "  rank_zero_warn(\"Detected KeyboardInterrupt, attempting graceful shutdown...\")\n"
     ]
    }
   ],
   "source": [
    "trainer.fit(datamodule=dm, model=bpr)"
   ]
  },
  {
   "attachments": {},
   "cell_type": "markdown",
   "metadata": {},
   "source": [
    "## ranking metrics"
   ]
  },
  {
   "cell_type": "code",
   "execution_count": 32,
   "metadata": {},
   "outputs": [],
   "source": [
    "train = dm.train_dataset.data\n",
    "val = dm.val_dataset.data"
   ]
  },
  {
   "cell_type": "code",
   "execution_count": 33,
   "metadata": {},
   "outputs": [],
   "source": [
    "n_users = dm.n_users\n",
    "n_movies = dm.n_items"
   ]
  },
  {
   "cell_type": "code",
   "execution_count": 29,
   "metadata": {},
   "outputs": [],
   "source": [
    "model = model.load_from_checkpoint(\"./checkpoints/epoch=6-val_f1=0.86.ckpt\", n_user=n_users, n_items=n_movies, emb_dim=64, hidden_dim=128).eval()\n",
    "bpr = bpr.load_from_checkpoint(\"./checkpoints/epoch=51-val_loss=0.54.ckpt\", n_user=n_users, n_items=n_movies).eval()"
   ]
  },
  {
   "cell_type": "code",
   "execution_count": 43,
   "metadata": {},
   "outputs": [],
   "source": [
    "def remove_train_items(preds, k, users=range(n_users)):\n",
    "    \"\"\"Do not let model predict what user has already seen\n",
    "\n",
    "    Args:\n",
    "        preds (_type_): _description_\n",
    "        k (_type_): _description_\n",
    "        users (_type_, optional): _description_. Defaults to range(n_users).\n",
    "\n",
    "    Returns:\n",
    "        _type_: _description_\n",
    "    \"\"\"\n",
    "    new_preds = np.zeros((preds.shape[0], k), dtype=np.int)\n",
    "    for user, data in train.groupby('userId'):\n",
    "        if user in users:\n",
    "            user_preds = preds[users.index(user)]\n",
    "            new_preds[users.index(user)] = user_preds[~np.in1d(user_preds, data.movieId)][:k]\n",
    "    return new_preds\n",
    "\n",
    "\n",
    "def get_bpr(encoded_user_ids, k):\n",
    "    \"\"\"\n",
    "\n",
    "    Args:\n",
    "        encoded_user_ids (_type_): _description_\n",
    "        k (_type_): _description_\n",
    "\n",
    "    Returns:\n",
    "        _type_: _description_\n",
    "    \"\"\"\n",
    "    movies_embeddings = bpr.embed_item(torch.tensor(range(n_movies)))\n",
    "    user_embeddings = bpr.embed_user(torch.tensor(encoded_user_ids))\n",
    "    res = (user_embeddings @ movies_embeddings.T)\n",
    "    preds = np.argsort(-res.detach().numpy(), axis=1)\n",
    "    preds = remove_train_items(preds, k, users=encoded_user_ids)\n",
    "    return preds\n",
    "\n",
    "\n",
    "def get_softmax(encoded_user_ids, k):\n",
    "    \"\"\"Angles\n",
    "\n",
    "    Args:\n",
    "        encoded_user_ids (_type_): _description_\n",
    "        k (_type_): _description_\n",
    "\n",
    "    Returns:\n",
    "        _type_: _description_\n",
    "    \"\"\"\n",
    "    movies_embeddings = model.embed_item({\"movieId\": torch.tensor(range(n_movies))})\n",
    "    user_embeddings = model.embed_user({\"userId\": torch.tensor(encoded_user_ids)})\n",
    "    movies_norms = torch.norm(movies_embeddings, dim=-1)\n",
    "    user_norms = torch.norm(user_embeddings, dim=-1)\n",
    "    normalization_factor = 1 / torch.outer(user_norms, movies_norms)\n",
    "    res = (user_embeddings @ movies_embeddings.T) * normalization_factor\n",
    "    # res = (user_embeddings @ movies_embeddings.T)\n",
    "    preds = np.argsort(-res.detach().numpy(), axis=1)\n",
    "    preds = remove_train_items(preds, k, users=encoded_user_ids)\n",
    "    return preds\n",
    "\n",
    "\n",
    "def get_random_preds(k=10):\n",
    "    preds = np.tile(np.arange(n_movies), (n_users, 1))\n",
    "    for i in range(n_users):\n",
    "        rand_perm = np.random.permutation(n_movies)\n",
    "        preds[i] = preds[i][rand_perm]\n",
    "\n",
    "    preds = remove_train_items(preds, k)\n",
    "    return preds\n",
    "\n",
    "\n",
    "def get_toppop_preds(freq=10, k=10):\n",
    "    mean_rating = train.groupby('movieId').rating.mean()\n",
    "    mean_rating = mean_rating[train.groupby('movieId').size() >= freq]\n",
    "    preds = np.array(mean_rating.sort_values(ascending=False).index)\n",
    "    preds = np.tile(preds, (n_users, 1))\n",
    "    preds = remove_train_items(preds, k)\n",
    "    return preds\n",
    "\n",
    "\n",
    "def MAP_k(y_true, y_pred, k=10):\n",
    "    map_k, count = 0, 0\n",
    "    for relevant, predicted in zip(y_true, y_pred):\n",
    "        if not relevant:\n",
    "            continue\n",
    "        correct = np.isin(predicted[:k], relevant)\n",
    "        map_k += (correct / np.arange(1, k + 1)).sum() / (1 / np.arange(1, len(relevant) + 1)).sum()\n",
    "        count += 1\n",
    "    map_k = map_k / count\n",
    "    return map_k"
   ]
  },
  {
   "cell_type": "code",
   "execution_count": 44,
   "metadata": {},
   "outputs": [],
   "source": [
    "\"\"\"I do not use separate test set because I haven't uset val much\n",
    "\"\"\"\n",
    "users = []\n",
    "true_relevant = []\n",
    "for user, data in val[val.rating == 1].groupby('userId'):\n",
    "    users.append(user)\n",
    "    true_relevant += [data.movieId.tolist()]"
   ]
  },
  {
   "cell_type": "code",
   "execution_count": 46,
   "metadata": {},
   "outputs": [
    {
     "name": "stderr",
     "output_type": "stream",
     "text": [
      "/tmp/ipykernel_7882/2657879611.py:2: DeprecationWarning: `np.int` is a deprecated alias for the builtin `int`. To silence this warning, use `int` by itself. Doing this will not modify any behavior and is safe. When replacing `np.int`, you may wish to use e.g. `np.int64` or `np.int32` to specify the precision. If you wish to review your current use, check the release note link for additional information.\n",
      "Deprecated in NumPy 1.20; for more details and guidance: https://numpy.org/devdocs/release/1.20.0-notes.html#deprecations\n",
      "  new_preds = np.zeros((preds.shape[0], k), dtype=np.int)\n",
      "/tmp/ipykernel_7882/2657879611.py:2: DeprecationWarning: `np.int` is a deprecated alias for the builtin `int`. To silence this warning, use `int` by itself. Doing this will not modify any behavior and is safe. When replacing `np.int`, you may wish to use e.g. `np.int64` or `np.int32` to specify the precision. If you wish to review your current use, check the release note link for additional information.\n",
      "Deprecated in NumPy 1.20; for more details and guidance: https://numpy.org/devdocs/release/1.20.0-notes.html#deprecations\n",
      "  new_preds = np.zeros((preds.shape[0], k), dtype=np.int)\n",
      "/tmp/ipykernel_7882/2657879611.py:2: DeprecationWarning: `np.int` is a deprecated alias for the builtin `int`. To silence this warning, use `int` by itself. Doing this will not modify any behavior and is safe. When replacing `np.int`, you may wish to use e.g. `np.int64` or `np.int32` to specify the precision. If you wish to review your current use, check the release note link for additional information.\n",
      "Deprecated in NumPy 1.20; for more details and guidance: https://numpy.org/devdocs/release/1.20.0-notes.html#deprecations\n",
      "  new_preds = np.zeros((preds.shape[0], k), dtype=np.int)\n",
      "/tmp/ipykernel_7882/2657879611.py:2: DeprecationWarning: `np.int` is a deprecated alias for the builtin `int`. To silence this warning, use `int` by itself. Doing this will not modify any behavior and is safe. When replacing `np.int`, you may wish to use e.g. `np.int64` or `np.int32` to specify the precision. If you wish to review your current use, check the release note link for additional information.\n",
      "Deprecated in NumPy 1.20; for more details and guidance: https://numpy.org/devdocs/release/1.20.0-notes.html#deprecations\n",
      "  new_preds = np.zeros((preds.shape[0], k), dtype=np.int)\n"
     ]
    }
   ],
   "source": [
    "ks = np.arange(1, 31)\n",
    "softmax_predictions = get_softmax(users, k=ks[-1])\n",
    "bpr_predictions = get_bpr(users, k=ks[-1])\n",
    "random_preds = get_random_preds(k=ks[-1])\n",
    "top_preds = get_toppop_preds(freq=10, k=ks[-1])\n",
    "\n",
    "random_map_k = [MAP_k(true_relevant, random_preds, k=k) for k in ks]\n",
    "top_map_k = [MAP_k(true_relevant, top_preds, k=k) for k in ks]\n",
    "softmax_map_k = [MAP_k(true_relevant, softmax_predictions, k=k) for k in ks]\n",
    "bpr_map_k = [MAP_k(true_relevant, bpr_predictions, k=k) for k in ks]"
   ]
  },
  {
   "cell_type": "code",
   "execution_count": 47,
   "metadata": {},
   "outputs": [
    {
     "data": {
      "image/png": "[encoded data removed]",
      "text/plain": [
       "<Figure size 1000x600 with 1 Axes>"
      ]
     },
     "metadata": {},
     "output_type": "display_data"
    }
   ],
   "source": [
    "import matplotlib.pyplot as plt\n",
    "\n",
    "plt.figure(figsize=(10, 6))\n",
    "plt.plot(ks, random_map_k, label='Random')\n",
    "plt.plot(ks, top_map_k, label='Top Popular')\n",
    "plt.plot(ks, softmax_map_k, label='softmax')\n",
    "plt.plot(ks, bpr_map_k, label='BPR')\n",
    "\n",
    "plt.legend(title='method')\n",
    "plt.xlabel('k')\n",
    "plt.ylabel('MAP@k')\n",
    "plt.show()  "
   ]
  },
  {
   "attachments": {},
   "cell_type": "markdown",
   "metadata": {},
   "source": []
  },
  {
   "attachments": {},
   "cell_type": "markdown",
   "metadata": {},
   "source": []
  }
 ],
 "metadata": {
  "kernelspec": {
   "display_name": "ml",
   "language": "python",
   "name": "python3"
  },
  "language_info": {
   "codemirror_mode": {
    "name": "ipython",
    "version": 3
   },
   "file_extension": ".py",
   "mimetype": "text/x-python",
   "name": "python",
   "nbconvert_exporter": "python",
   "pygments_lexer": "ipython3",
   "version": "3.10.9"
  },
  "orig_nbformat": 4
 },
 "nbformat": 4,
 "nbformat_minor": 2
}
